{
 "cells": [
  {
   "cell_type": "markdown",
   "metadata": {},
   "source": [
    "### Data Understanding\n",
    "The dataset is a subset of the ParaNMT corpus (50M sentence pairs). The filtered ParaNMT-detox corpus (500K sentence pairs).\n",
    "\n",
    "The data is given in the .tsv format, means columns are separated by \\t symbol.\n",
    "\n",
    "| Column | Type | Discription | \n",
    "| ----- | ------- | ---------- |\n",
    "| reference | str | First item from the pair | \n",
    "| ref_tox | float | toxicity level of reference text | \n",
    "| translation | str | Second item from the pair - paraphrazed version of the reference|\n",
    "| trn_tox | float | toxicity level of translation text |\n",
    "| similarity | float | cosine similarity of the texts |\n",
    "| lenght_diff | float | relative length difference between texts |\n",
    "\n",
    "Conclusion:\n",
    "Dataset consists of 577777 rows and already cleaned from null (missing) values. Additionally, there is an unnamed column which is the index of the row, which was reset to index in dataset itself.\n",
    "\n",
    "Columns:\n",
    "2 columns are object type, strings of initial toxic text and its paraphrased neutral version. \n",
    "Remaining 4 columns are the float discription such as: \n",
    "1. toxicicity level in the original data;\n",
    "2. toxicicity after paraphrase\n",
    "3. cosine similarity between original toxic text and rewritten neutral text.\n",
    "4. relative length difference\n",
    "\n",
    "Statistics gives us understanding that:\n",
    "Mean similarity through dataset 0.75 gives that, paraphrasing do not losses the meaning of the original text, and in the worst case the value is 0.6 which is still grater that half. Relative length difference is not realy important in this case, because multiple words could be replaces with one word or vice versa. \n",
    "Standart deviation of the toxicicity level of the initial text with value 0.45 shows us that not whole data is strongly toxic and should be paraphrased, furthermore toxicicity level of neutral text also has std value of 0.45 which means that some original text gets higher toxicicity."
   ]
  },
  {
   "cell_type": "code",
   "execution_count": 1,
   "metadata": {},
   "outputs": [
    {
     "name": "stdout",
     "output_type": "stream",
     "text": [
      "File Name                                             Modified             Size\n",
      "filtered.tsv                                   2021-04-16 22:34:42    108290032\n"
     ]
    }
   ],
   "source": [
    "# Unzipping the dataset in the raw directory:\n",
    "import zipfile\n",
    "\n",
    "with zipfile.ZipFile(\"../data/raw/filtered_paranmt.zip\", mode=\"r\") as archive:\n",
    "    archive.printdir()"
   ]
  },
  {
   "cell_type": "code",
   "execution_count": 2,
   "metadata": {},
   "outputs": [],
   "source": [
    "with zipfile.ZipFile(\"../data/raw/filtered_paranmt.zip\", mode=\"r\") as archive:\n",
    "    dataset = archive.read(\"filtered.tsv\").decode(encoding=\"utf-8\")\n",
    "    with open(\"../data/interim/filtered_paranmt.tsv\", \"w\", encoding=\"utf-8\") as f:\n",
    "        f.write(dataset)"
   ]
  },
  {
   "cell_type": "code",
   "execution_count": 3,
   "metadata": {},
   "outputs": [
    {
     "name": "stdout",
     "output_type": "stream",
     "text": [
      "Number of rows: 577777\n",
      "Columns: Index(['Unnamed: 0', 'reference', 'translation', 'similarity', 'lenght_diff',\n",
      "       'ref_tox', 'trn_tox'],\n",
      "      dtype='object')\n",
      "Missing values:\n",
      "Unnamed: 0     0\n",
      "reference      0\n",
      "translation    0\n",
      "similarity     0\n",
      "lenght_diff    0\n",
      "ref_tox        0\n",
      "trn_tox        0\n",
      "dtype: int64\n",
      "Summary statistics:\n",
      "          Unnamed: 0     similarity    lenght_diff        ref_tox  \\\n",
      "count  577777.000000  577777.000000  577777.000000  577777.000000   \n",
      "mean   288888.000000       0.758469       0.157652       0.541372   \n",
      "std    166789.997578       0.092695       0.108057       0.457571   \n",
      "min         0.000000       0.600001       0.000000       0.000033   \n",
      "25%    144444.000000       0.681105       0.066667       0.012171   \n",
      "50%    288888.000000       0.754439       0.141791       0.806795   \n",
      "75%    433332.000000       0.831244       0.238095       0.990469   \n",
      "max    577776.000000       0.950000       0.400000       0.999724   \n",
      "\n",
      "             trn_tox  \n",
      "count  577777.000000  \n",
      "mean        0.434490  \n",
      "std         0.458904  \n",
      "min         0.000033  \n",
      "25%         0.000707  \n",
      "50%         0.085133  \n",
      "75%         0.973739  \n",
      "max         0.999730  \n"
     ]
    }
   ],
   "source": [
    "import pandas as pd\n",
    "\n",
    "file_path = \"../data/interim/filtered_paranmt.tsv\"\n",
    "\n",
    "# Read the TSV file\n",
    "df = pd.read_csv(file_path, delimiter='\\t')\n",
    "\n",
    "# Explore the dataset\n",
    "print(\"Number of rows:\", len(df))\n",
    "print(\"Columns:\", df.columns)\n",
    "\n",
    "# Check for missing values\n",
    "print(\"Missing values:\")\n",
    "print(df.isnull().sum())\n",
    "\n",
    "# Summary statistics\n",
    "print(\"Summary statistics:\")\n",
    "print(df.describe())\n",
    "\n",
    "# Remove rows with missing values\n",
    "df = df.dropna()"
   ]
  },
  {
   "cell_type": "code",
   "execution_count": 4,
   "metadata": {},
   "outputs": [
    {
     "name": "stdout",
     "output_type": "stream",
     "text": [
      "Unnamed: 0                                                     0\n",
      "reference      If Alkar is flooding her with psychic waste, t...\n",
      "translation    if Alkar floods her with her mental waste, it ...\n",
      "similarity                                              0.785171\n",
      "lenght_diff                                             0.010309\n",
      "ref_tox                                                 0.014195\n",
      "trn_tox                                                 0.981983\n",
      "Name: 0, dtype: object\n"
     ]
    }
   ],
   "source": [
    "print(df.iloc[0])"
   ]
  },
  {
   "cell_type": "code",
   "execution_count": 5,
   "metadata": {},
   "outputs": [],
   "source": [
    "df = df.set_index(df.columns[0])\n",
    "df.index.name = \"index\""
   ]
  },
  {
   "cell_type": "code",
   "execution_count": 6,
   "metadata": {},
   "outputs": [
    {
     "name": "stdout",
     "output_type": "stream",
     "text": [
      "<class 'pandas.core.frame.DataFrame'>\n",
      "Index: 577777 entries, 0 to 577776\n",
      "Data columns (total 6 columns):\n",
      " #   Column       Non-Null Count   Dtype  \n",
      "---  ------       --------------   -----  \n",
      " 0   reference    577777 non-null  object \n",
      " 1   translation  577777 non-null  object \n",
      " 2   similarity   577777 non-null  float64\n",
      " 3   lenght_diff  577777 non-null  float64\n",
      " 4   ref_tox      577777 non-null  float64\n",
      " 5   trn_tox      577777 non-null  float64\n",
      "dtypes: float64(4), object(2)\n",
      "memory usage: 30.9+ MB\n"
     ]
    }
   ],
   "source": [
    "df.info()"
   ]
  },
  {
   "cell_type": "code",
   "execution_count": 7,
   "metadata": {},
   "outputs": [
    {
     "name": "stdout",
     "output_type": "stream",
     "text": [
      "          similarity    lenght_diff        ref_tox        trn_tox\n",
      "count  577777.000000  577777.000000  577777.000000  577777.000000\n",
      "mean        0.758469       0.157652       0.541372       0.434490\n",
      "std         0.092695       0.108057       0.457571       0.458904\n",
      "min         0.600001       0.000000       0.000033       0.000033\n",
      "25%         0.681105       0.066667       0.012171       0.000707\n",
      "50%         0.754439       0.141791       0.806795       0.085133\n",
      "75%         0.831244       0.238095       0.990469       0.973739\n",
      "max         0.950000       0.400000       0.999724       0.999730\n"
     ]
    }
   ],
   "source": [
    "print(df.describe())"
   ]
  },
  {
   "cell_type": "code",
   "execution_count": 8,
   "metadata": {},
   "outputs": [],
   "source": [
    "# Save the DataFrame\n",
    "df.to_csv('../data/interim/data1.csv')"
   ]
  }
 ],
 "metadata": {
  "kernelspec": {
   "display_name": "Python 3",
   "language": "python",
   "name": "python3"
  },
  "language_info": {
   "codemirror_mode": {
    "name": "ipython",
    "version": 3
   },
   "file_extension": ".py",
   "mimetype": "text/x-python",
   "name": "python",
   "nbconvert_exporter": "python",
   "pygments_lexer": "ipython3",
   "version": "3.9.2"
  }
 },
 "nbformat": 4,
 "nbformat_minor": 2
}
